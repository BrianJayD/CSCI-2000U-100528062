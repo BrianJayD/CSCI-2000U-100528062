{
 "cells": [
  {
   "cell_type": "code",
   "execution_count": null,
   "metadata": {
    "collapsed": false
   },
   "outputs": [],
   "source": [
    "#Brian Domingo\n",
    "#100528062\n",
    "\n",
    "import numpy as np\n",
    "import matplotlib.pyplot as py\n",
    "import matplotlib.lines as mpatches\n",
    "\n",
    "#Reading .dat files\n",
    "montreal = np.loadtxt(\"montreal_temperature_2012.dat\")\n",
    "toronto = np.loadtxt(\"toronto_temperature_2012.dat\")\n",
    "vancouver = np.loadtxt(\"vancouver_temperature_2012.dat\")\n",
    "\n",
    "#Set months on the x-axis\n",
    "months = (1, 2, 3, 4, 5, 6, 7,\n",
    "         8, 9, 10, 11, 12)\n",
    "monthTicks = ('Jan', 'Feb', 'Mar', 'Apr', 'May', 'Jun', 'Jul',\n",
    "              'Aug', 'Sept', 'Oct', 'Nov', 'Dec')\n",
    "py.xticks(months, monthTicks) #Switch the tick labels with the strings ont he x-axis\n",
    "\n",
    "py.axis([0,13, -10, 30]) #Sets the size of the graph\n",
    "py.ylabel(\"Average Temperature (Celsius)\") #Label for y-axis\n",
    "py.xlabel(\"Month\") #Label for x-axis\n",
    "py.plot(months, toronto, 'r') #Plot Toronto with red line\n",
    "py.plot(months, montreal, 'b') #Plot Montreal with blue line\n",
    "py.plot(months, vancouver, 'g') #Plot Vancouver with green line\n",
    "\n",
    "#Set the legend\n",
    "toronto_legend = mpatches.Line2D(months, toronto, color='red', label='Toronto')\n",
    "montreal_legend = mpatches.Line2D(months, montreal, color='blue', label='Montreal')\n",
    "vancouver_legend = mpatches.Line2D(months, vancouver, color='green', label='Vancouver')\n",
    "py.legend(handles=[toronto_legend, montreal_legend, vancouver_legend])\n",
    "\n",
    "#Set Title\n",
    "py.title('2012 Average Monthly Temperatures (100528062)')\n",
    "\n",
    "#Show plot\n",
    "py.show()\n",
    "\n",
    "\n"
   ]
  }
 ],
 "metadata": {
  "kernelspec": {
   "display_name": "Python 3",
   "language": "python",
   "name": "python3"
  },
  "language_info": {
   "codemirror_mode": {
    "name": "ipython",
    "version": 3
   },
   "file_extension": ".py",
   "mimetype": "text/x-python",
   "name": "python",
   "nbconvert_exporter": "python",
   "pygments_lexer": "ipython3",
   "version": "3.5.0"
  }
 },
 "nbformat": 4,
 "nbformat_minor": 0
}
