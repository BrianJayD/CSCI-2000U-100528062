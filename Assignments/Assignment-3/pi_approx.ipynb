{
 "cells": [
  {
   "cell_type": "code",
   "execution_count": 57,
   "metadata": {
    "collapsed": false
   },
   "outputs": [
    {
     "name": "stdout",
     "output_type": "stream",
     "text": [
      "rho(10) = 3.0418396189294032\n",
      "tau(10) = 3.04936163598207\n",
      "mu(10) = 3.1413846224669713\n"
     ]
    }
   ],
   "source": [
    "#rho = 4((-1)^n+1 / 2n-1)\n",
    "#tau = (6(1/n^2))^(1/2)\n",
    "#mu = (90(1/n^4))^(1/4)\n",
    "\n",
    "def rho(n):\n",
    "    count = 0\n",
    "    value = 0\n",
    "    for x in range(0,n):\n",
    "        count += 1\n",
    "        num = (-1)**(count + 1)\n",
    "        dnum = 2*count - 1\n",
    "        bracket = num / dnum\n",
    "        value += bracket\n",
    "    fvalue = 4*value\n",
    "    print (\"rho({}) = {}\".format(n, fvalue))    \n",
    "            \n",
    "rho(10)\n",
    "#rho(100)\n",
    "#rho(1000)\n",
    "#rho(10000)\n",
    "#rho(100000)\n",
    "#rho(1000000)\n",
    "\n",
    "def tau(n):\n",
    "    count = 0\n",
    "    value = 0\n",
    "    for x in range(0,n):\n",
    "        count += 1\n",
    "        bracket = 1 / (count**2)\n",
    "        value += bracket\n",
    "    fvalue = (6*value)**(1/2)\n",
    "    print (\"tau({}) = {}\".format(n, fvalue))\n",
    "    \n",
    "tau(10)\n",
    "#tau(100)\n",
    "#tau(1000)\n",
    "#tau(10000)\n",
    "#tau(100000)\n",
    "#tau(1000000)\n",
    "\n",
    "def mu(n):\n",
    "    count = 0\n",
    "    value = 0\n",
    "    for x in range(0,n):\n",
    "        count += 1\n",
    "        bracket = 1 / (count**4)\n",
    "        value += bracket\n",
    "    fvalue = (90*value)**(1/4)\n",
    "    print (\"mu({}) = {}\".format(n, fvalue))\n",
    "    \n",
    "mu(10)"
   ]
  }
 ],
 "metadata": {
  "kernelspec": {
   "display_name": "Python 3",
   "language": "python",
   "name": "python3"
  },
  "language_info": {
   "codemirror_mode": {
    "name": "ipython",
    "version": 3
   },
   "file_extension": ".py",
   "mimetype": "text/x-python",
   "name": "python",
   "nbconvert_exporter": "python",
   "pygments_lexer": "ipython3",
   "version": "3.5.0"
  }
 },
 "nbformat": 4,
 "nbformat_minor": 0
}
