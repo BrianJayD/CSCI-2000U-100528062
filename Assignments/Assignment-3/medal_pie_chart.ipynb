{
 "cells": [
  {
   "cell_type": "code",
   "execution_count": 2,
   "metadata": {
    "collapsed": false,
    "scrolled": true
   },
   "outputs": [],
   "source": [
    "#Brian Domingo\n",
    "#100528062\n",
    "\n",
    "import matplotlib.pyplot as plt #Imports matplotlib\n",
    "\n",
    "X = (46, 38, 29, 24, 13, 11, 11, 8, 8, 7, 107) #Sets values in array X\n",
    "\n",
    "Y = (\"USA\", \"CHN\", \"GBR\", \"RUS\", \"KOR\", \"GER\", \n",
    "     \"FRA\", \"ITA\", \"HUN\", \"AUS\", \"OTHER\") #Sets names for the values in array Y\n",
    "\n",
    "explode = (0.1, 0.1, 0.1, 0.1, 0.1, 0.1, 0.1, 0.1, 0.1, 0.1, 0.1) #explode measurements\n",
    "\n",
    "plt.pie(X, explode=explode, labels=Y,\n",
    "    colors=('b', 'g', 'r', 'y', 'c', 'm', 'k', 'w')) #colors\n",
    "\n",
    "plt.title('2012 Olympic Gold Medals (100528062)', \n",
    "          bbox={'facecolor':'0.8', 'pad':5}) #Sets title and border\n",
    "plt.show() #Shows the plot"
   ]
  },
  {
   "cell_type": "code",
   "execution_count": null,
   "metadata": {
    "collapsed": true
   },
   "outputs": [],
   "source": []
  }
 ],
 "metadata": {
  "kernelspec": {
   "display_name": "Python 3",
   "language": "python",
   "name": "python3"
  },
  "language_info": {
   "codemirror_mode": {
    "name": "ipython",
    "version": 3
   },
   "file_extension": ".py",
   "mimetype": "text/x-python",
   "name": "python",
   "nbconvert_exporter": "python",
   "pygments_lexer": "ipython3",
   "version": "3.5.0"
  }
 },
 "nbformat": 4,
 "nbformat_minor": 0
}
