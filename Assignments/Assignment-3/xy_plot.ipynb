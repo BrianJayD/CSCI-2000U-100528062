{
 "cells": [
  {
   "cell_type": "code",
   "execution_count": 26,
   "metadata": {
    "collapsed": false,
    "scrolled": false
   },
   "outputs": [
    {
     "name": "stderr",
     "output_type": "stream",
     "text": [
      "/home/sliickz/anaconda3/lib/python3.5/site-packages/matplotlib/collections.py:590: FutureWarning: elementwise comparison failed; returning scalar instead, but in the future will perform elementwise comparison\n",
      "  if self._edgecolors == str('face'):\n"
     ]
    }
   ],
   "source": [
    "#Brian Domingo\n",
    "#100528062\n",
    "\n",
    "import numpy as np\n",
    "import matplotlib.pyplot as py\n",
    "\n",
    "x,y = np.loadtxt(\"xy_points.dat\") #Reads .dat file and places into arrays x and y\n",
    "\n",
    "py.scatter(x,y, color='r') #Plot points and color the dots red\n",
    "\n",
    "temp = zip(x,y) #merges arrays x and y\n",
    "for x1,y1 in temp: #iterates through the new 2d array\n",
    "    if (x1 < -2) and (-5 <= y1 <= 0): #finds values of x1 and y1 that meet conditions\n",
    "        py.scatter(x1, y1, color='b') #plots them on teh graph as blue dots\n",
    "        \n",
    "temp2 = zip(x,y) #new merged array\n",
    "x2, y2 = ([],[]) #makes empty 2d array\n",
    "for nx2,ny2 in temp2: #iterates through new merged array\n",
    "    r = np.sqrt((nx2-0)**2+(ny2-5)**2) #radius\n",
    "    if (r <= 5): #if the coordinates meet the condition append to empty 2d array\n",
    "        x2.append(nx2)\n",
    "        y2.append(ny2)\n",
    "py.scatter(x2, y2, color='g') #prints as green dots\n",
    "        \n",
    "py.title(\"Highlighted Points (100528062)\")\n",
    "py.axis([-10, 10, -10, 10])\n",
    "py.show()"
   ]
  },
  {
   "cell_type": "code",
   "execution_count": null,
   "metadata": {
    "collapsed": true
   },
   "outputs": [],
   "source": []
  },
  {
   "cell_type": "code",
   "execution_count": null,
   "metadata": {
    "collapsed": true
   },
   "outputs": [],
   "source": []
  }
 ],
 "metadata": {
  "kernelspec": {
   "display_name": "Python 3",
   "language": "python",
   "name": "python3"
  },
  "language_info": {
   "codemirror_mode": {
    "name": "ipython",
    "version": 3
   },
   "file_extension": ".py",
   "mimetype": "text/x-python",
   "name": "python",
   "nbconvert_exporter": "python",
   "pygments_lexer": "ipython3",
   "version": "3.5.0"
  }
 },
 "nbformat": 4,
 "nbformat_minor": 0
}
