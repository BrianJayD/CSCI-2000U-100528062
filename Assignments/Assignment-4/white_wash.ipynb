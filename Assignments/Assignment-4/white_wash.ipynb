{
 "cells": [
  {
   "cell_type": "code",
   "execution_count": 22,
   "metadata": {
    "collapsed": false,
    "scrolled": true
   },
   "outputs": [
    {
     "name": "stdout",
     "output_type": "stream",
     "text": [
      "Before White Wash\n",
      "[[ 0.51014338  0.4627435   0.70435094]\n",
      " [ 0.02032718  0.78490962  0.14739537]\n",
      " [ 0.71664272  0.33155409  0.72213337]\n",
      " [ 0.79184282  0.60797248  0.8718671 ]\n",
      " [ 0.57396624  0.42240846  0.97144347]]\n",
      "\n",
      "After White Wash\n",
      "[[ 0.75507169  0.73137175  0.85217547]\n",
      " [ 0.51016359  0.89245481  0.57369768]\n",
      " [ 0.85832136  0.66577705  0.86106668]\n",
      " [ 0.89592141  0.80398624  0.93593355]\n",
      " [ 0.78698312  0.71120423  0.98572174]]\n"
     ]
    }
   ],
   "source": [
    "#Brian Domingo\n",
    "#100528062\n",
    "import numpy as np\n",
    "import matplotlib.pyplot as plt\n",
    "import random as rnd\n",
    "\n",
    "def beforeWhiteWash(n):\n",
    "    a = np.arange(n*3.).reshape(n, 3)\n",
    "    \n",
    "    for x in range(0, n):\n",
    "        for y in range (0, 3):\n",
    "            a[x][y] = rnd.random()\n",
    "            \n",
    "    return(a)\n",
    "\n",
    "def WhiteWash(a):\n",
    "    for x in range(0, n):\n",
    "        for y in range (0, 3):\n",
    "            a[x][y] = (a[x][y]+1) / 2\n",
    "    print (\"After White Wash\")\n",
    "    print (a)\n",
    "    plt.imshow(a)\n",
    "    plt.show()\n",
    "\n",
    "n = 5\n",
    "print(\"Before White Wash\")\n",
    "a = beforeWhiteWash(n)\n",
    "print (a)\n",
    "print (\"\")\n",
    "\n",
    "WhiteWash(a)\n",
    "\n",
    "    "
   ]
  },
  {
   "cell_type": "code",
   "execution_count": null,
   "metadata": {
    "collapsed": true
   },
   "outputs": [],
   "source": []
  },
  {
   "cell_type": "code",
   "execution_count": null,
   "metadata": {
    "collapsed": true
   },
   "outputs": [],
   "source": []
  }
 ],
 "metadata": {
  "kernelspec": {
   "display_name": "Python 3",
   "language": "python",
   "name": "python3"
  },
  "language_info": {
   "codemirror_mode": {
    "name": "ipython",
    "version": 3
   },
   "file_extension": ".py",
   "mimetype": "text/x-python",
   "name": "python",
   "nbconvert_exporter": "python",
   "pygments_lexer": "ipython3",
   "version": "3.5.0"
  }
 },
 "nbformat": 4,
 "nbformat_minor": 0
}
