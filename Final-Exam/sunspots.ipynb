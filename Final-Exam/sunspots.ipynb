{
 "cells": [
  {
   "cell_type": "code",
   "execution_count": 23,
   "metadata": {
    "collapsed": false
   },
   "outputs": [
    {
     "name": "stdout",
     "output_type": "stream",
     "text": [
      "The most recent sunspot observations were on 2015-5-31\n",
      "Statistics of daily sunspot observations (1818-present):\n",
      "Mean: 51.310260179740375\n"
     ]
    },
    {
     "data": {
      "image/png": "[encoded data removed]",
      "text/plain": [
       "<matplotlib.figure.Figure at 0x7f41ec206080>"
      ]
     },
     "metadata": {},
     "output_type": "display_data"
    }
   ],
   "source": [
    "#Attempted Not finished\n",
    "%matplotlib inline\n",
    "import csv\n",
    "import numpy as np\n",
    "import matplotlib.pyplot as plt\n",
    "\n",
    "data = \"ISSN_D_tot.csv\"\n",
    "year = np.genfromtxt(data, dtype=int, delimiter=',', usecols=0)\n",
    "month = np.genfromtxt(data, dtype=int, delimiter=',', usecols=1)\n",
    "day = np.genfromtxt(data, dtype=int, delimiter=',', usecols=2)\n",
    "\n",
    "dataLen = len(year)\n",
    "recentDate = 0\n",
    "for i in range(dataLen):\n",
    "    if (year[i] > recentDate):\n",
    "        recentDate = year[i]\n",
    "        \n",
    "y = year[dataLen-1]\n",
    "m = month[dataLen-1]\n",
    "d = day[dataLen-1]\n",
    "\n",
    "print (\"The most recent sunspot observations were on {}-{}-{}\".format(y,m,d))\n",
    "\n",
    "firstYear = year[0]\n",
    "print (\"Statistics of daily sunspot observations ({}-present):\".format(firstYear))\n",
    "\n",
    "spots = np.genfromtxt(data, dtype=float, delimiter=',', usecols=4)\n",
    "totalSpots = 0\n",
    "for i in range(dataLen):\n",
    "    totalSpots += spots[i]\n",
    "Mean = totalSpots / dataLen\n",
    "print (\"Mean: {}\".format(Mean))\n",
    "\n",
    "#Median = \n",
    "#print (\"Median: {}\".format(Median))\n",
    "\n",
    "plt.axis([0,30, 0, 30])\n",
    "plt.show()"
   ]
  },
  {
   "cell_type": "code",
   "execution_count": null,
   "metadata": {
    "collapsed": true
   },
   "outputs": [],
   "source": []
  },
  {
   "cell_type": "code",
   "execution_count": null,
   "metadata": {
    "collapsed": true
   },
   "outputs": [],
   "source": []
  }
 ],
 "metadata": {
  "kernelspec": {
   "display_name": "Python 3",
   "language": "python",
   "name": "python3"
  },
  "language_info": {
   "codemirror_mode": {
    "name": "ipython",
    "version": 3
   },
   "file_extension": ".py",
   "mimetype": "text/x-python",
   "name": "python",
   "nbconvert_exporter": "python",
   "pygments_lexer": "ipython3",
   "version": "3.5.0"
  }
 },
 "nbformat": 4,
 "nbformat_minor": 0
}
