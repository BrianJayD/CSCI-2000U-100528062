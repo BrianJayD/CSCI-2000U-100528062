{
 "cells": [
  {
   "cell_type": "code",
   "execution_count": 96,
   "metadata": {
    "collapsed": false,
    "scrolled": false
   },
   "outputs": [
    {
     "name": "stdout",
     "output_type": "stream",
     "text": [
      "n    F_n\n",
      "0     0\n",
      "1     1\n",
      "2     1\n",
      "3     2\n",
      "4     3\n",
      "5     5\n",
      "6     8\n"
     ]
    }
   ],
   "source": [
    "#file does not work\n",
    "def fib(n):\n",
    "    if (n == 0):\n",
    "        return 0\n",
    "    if (n == 1):\n",
    "        return 1\n",
    "    if (n > 1):\n",
    "        k = fib(n-1) + fib(n-2)\n",
    "        return k\n",
    "\n",
    "def fib_file(n, fname):\n",
    "    name = (\"{}_{}.txt\".format(n, fname))\n",
    "    #file = open(name, \"\")\n",
    "    print(\"n    F_n\")\n",
    "    for i in range(n+1):\n",
    "        #for line in file:\n",
    "            print(\"{}     {}\".format(i,fib(i)))\n",
    "        #file.close()\n",
    "    \n",
    "fib_file(6, \"fib\")\n",
    "        \n",
    "            "
   ]
  },
  {
   "cell_type": "code",
   "execution_count": null,
   "metadata": {
    "collapsed": true
   },
   "outputs": [],
   "source": []
  },
  {
   "cell_type": "code",
   "execution_count": null,
   "metadata": {
    "collapsed": true
   },
   "outputs": [],
   "source": []
  }
 ],
 "metadata": {
  "kernelspec": {
   "display_name": "Python 3",
   "language": "python",
   "name": "python3"
  },
  "language_info": {
   "codemirror_mode": {
    "name": "ipython",
    "version": 3
   },
   "file_extension": ".py",
   "mimetype": "text/x-python",
   "name": "python",
   "nbconvert_exporter": "python",
   "pygments_lexer": "ipython3",
   "version": "3.5.0"
  }
 },
 "nbformat": 4,
 "nbformat_minor": 0
}
